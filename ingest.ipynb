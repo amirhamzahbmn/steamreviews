{
 "cells": [
  {
   "cell_type": "code",
   "execution_count": 264,
   "metadata": {},
   "outputs": [],
   "source": [
    "import requests\n",
    "import json\n",
    "import pandas as pd\n",
    "import csv\n",
    "import os"
   ]
  },
  {
   "cell_type": "code",
   "execution_count": 209,
   "metadata": {},
   "outputs": [],
   "source": [
    "appids = [2527500, 2379780, 3146520, 2358720, 526870, 3070070, 2142790]"
   ]
  },
  {
   "cell_type": "code",
   "execution_count": 164,
   "metadata": {},
   "outputs": [
    {
     "name": "stdout",
     "output_type": "stream",
     "text": [
      "calling 250 times\n",
      "calling 250 timesrsor: AoIFQFbAAAAAAAB2hMi7BQ== \n",
      "calling 250 timesrsor: AoIFQFaAAAAAAAB26MCyBQ== \n",
      "calling 250 timesrsor: AoIFQFaAAAAAAAB2juqlBQ== \n",
      "calling 250 timesrsor: AoIFQFaAAAAAAAB21ICZBQ== \n",
      "calling 250 timesrsor: AoIFQFaAAAAAAAB+uL+cBQ== \n",
      "calling 250 timesrsor: AoIFQFahheAAAAB+mbakBQ== \n",
      "moving on with cursor: AoIFQFahheAAAAB8rP3FBQ== \r"
     ]
    }
   ],
   "source": [
    "appids = [2527500, 2379780, 3146520, 2358720, 526870, 3070070, 2142790]\n",
    "count = 0\n",
    "\n",
    "for appid in appids:\n",
    "    count += 1\n",
    "    print(f'{count}/{len(appids)} \\r', end='', flush='True')\n",
    "    print(f'scanning {appid} \\r', end='', flush=True)\n",
    "    url = f\"https://store.steampowered.com/appreviews/{appid}\"\n",
    "    language = 'english'\n",
    "    num_per_page = '20'\n",
    "    day_range = '365'\n",
    "\n",
    "    payload = {'json': '1', 'language': language, \"num_per_page\": num_per_page}\n",
    "    response = requests.get(url=url, params=payload)\n",
    "\n",
    "    total_reviews = response.json()['query_summary']['total_reviews']\n",
    "\n",
    "    if total_reviews > 5000:\n",
    "        total_reviews = 5000\n",
    "\n",
    "    pages = int(total_reviews / int(num_per_page))\n",
    "\n",
    "    print(f'calling {pages} times')\n",
    "\n",
    "    cursor = '*'\n",
    "\n",
    "    csv_file = f'./data/{appid}.csv'\n",
    "\n",
    "    file_exists = os.path.isfile(csv_file)\n",
    "\n",
    "    for n in range(pages):\n",
    "        print(f'{n+1}/{pages} \\r', end='', flush=True)\n",
    "        payload = {'json': '1', 'language': language, \"num_per_page\": num_per_page, 'day_range':day_range, 'cursor':cursor}\n",
    "        response = requests.get(url=url, params=payload)\n",
    "\n",
    "        json_data = pd.json_normalize(response.json()['reviews'])\n",
    "\n",
    "        json_data['page'] = n\n",
    "        \n",
    "        json_data.to_csv(csv_file, mode='a', header=not file_exists, index=False )\n",
    "\n",
    "        cursor = response.json()['cursor']\n",
    "        print(f'moving on with cursor: {cursor} \\r', end='', flush=True)\n"
   ]
  },
  {
   "cell_type": "code",
   "execution_count": 253,
   "metadata": {},
   "outputs": [
    {
     "name": "stdout",
     "output_type": "stream",
     "text": [
      "2527500\n",
      "2379780\n",
      "3146520\n",
      "2358720\n",
      "526870\n",
      "3070070\n",
      "2142790\n"
     ]
    }
   ],
   "source": [
    "import json\n",
    "for appid in appids:\n",
    "    url = f\"https://store.steampowered.com/api/appdetails?appids={appid}\"\n",
    "\n",
    "    response = requests.get(url=url)\n",
    "\n",
    "    json_file = f'./data/apps/{appid}.json'\n",
    "\n",
    "    with open(json_file, 'w') as f:\n",
    "        json.dump(response.json()[str(appid)]['data'], f, indent=4)\n",
    "    print(appid)\n",
    "    # print(pd.json_normalize(response.json()[str(appid)]['data']).shape[1])"
   ]
  },
  {
   "cell_type": "code",
   "execution_count": 326,
   "metadata": {},
   "outputs": [],
   "source": [
    "maindf = pd.DataFrame(columns=['name','steam_appid','required_age','is_free',\n",
    "       'controller_support', 'detailed_description', 'about_the_game',\n",
    "       'short_description', 'developers', 'publishers'])\n",
    "\n",
    "for appid in appids:\n",
    "    json_file = f'./data/apps/{appid}.json'\n",
    "    with open(json_file, 'r') as f:\n",
    "        json_file = json.load(f)\n",
    "    df = pd.json_normalize(json_file)\n",
    "    maindf = pd.concat([maindf,df], join='inner')"
   ]
  },
  {
   "cell_type": "code",
   "execution_count": 323,
   "metadata": {},
   "outputs": [
    {
     "data": {
      "text/html": [
       "<div>\n",
       "<style scoped>\n",
       "    .dataframe tbody tr th:only-of-type {\n",
       "        vertical-align: middle;\n",
       "    }\n",
       "\n",
       "    .dataframe tbody tr th {\n",
       "        vertical-align: top;\n",
       "    }\n",
       "\n",
       "    .dataframe thead th {\n",
       "        text-align: right;\n",
       "    }\n",
       "</style>\n",
       "<table border=\"1\" class=\"dataframe\">\n",
       "  <thead>\n",
       "    <tr style=\"text-align: right;\">\n",
       "      <th></th>\n",
       "      <th>name</th>\n",
       "      <th>steam_appid</th>\n",
       "      <th>required_age</th>\n",
       "      <th>is_free</th>\n",
       "      <th>controller_support</th>\n",
       "      <th>detailed_description</th>\n",
       "      <th>about_the_game</th>\n",
       "      <th>short_description</th>\n",
       "      <th>developers</th>\n",
       "      <th>publishers</th>\n",
       "    </tr>\n",
       "  </thead>\n",
       "  <tbody>\n",
       "    <tr>\n",
       "      <th>0</th>\n",
       "      <td>Fields of Mistria</td>\n",
       "      <td>2142790</td>\n",
       "      <td>0</td>\n",
       "      <td>False</td>\n",
       "      <td>full</td>\n",
       "      <td>&lt;h1&gt;⭐ Updates &amp;amp; Announcements&lt;/h1&gt;&lt;p&gt;&lt;img ...</td>\n",
       "      <td>&lt;p class=\"bb_paragraph\"&gt;&lt;img class=\"bb_img\" sr...</td>\n",
       "      <td>Start your new life! Build the farm of your dr...</td>\n",
       "      <td>[NPC Studio]</td>\n",
       "      <td>[NPC Studio]</td>\n",
       "    </tr>\n",
       "  </tbody>\n",
       "</table>\n",
       "</div>"
      ],
      "text/plain": [
       "                name steam_appid required_age is_free controller_support  \\\n",
       "0  Fields of Mistria     2142790            0   False               full   \n",
       "\n",
       "                                detailed_description  \\\n",
       "0  <h1>⭐ Updates &amp; Announcements</h1><p><img ...   \n",
       "\n",
       "                                      about_the_game  \\\n",
       "0  <p class=\"bb_paragraph\"><img class=\"bb_img\" sr...   \n",
       "\n",
       "                                   short_description    developers  \\\n",
       "0  Start your new life! Build the farm of your dr...  [NPC Studio]   \n",
       "\n",
       "     publishers  \n",
       "0  [NPC Studio]  "
      ]
     },
     "execution_count": 323,
     "metadata": {},
     "output_type": "execute_result"
    }
   ],
   "source": [
    "pd.concat([maindf,df], join='inner')"
   ]
  },
  {
   "cell_type": "code",
   "execution_count": 329,
   "metadata": {},
   "outputs": [],
   "source": [
    "maindf.to_csv('steamappdetails.csv', index=False)"
   ]
  },
  {
   "cell_type": "code",
   "execution_count": 299,
   "metadata": {},
   "outputs": [
    {
     "data": {
      "text/html": [
       "<div>\n",
       "<style scoped>\n",
       "    .dataframe tbody tr th:only-of-type {\n",
       "        vertical-align: middle;\n",
       "    }\n",
       "\n",
       "    .dataframe tbody tr th {\n",
       "        vertical-align: top;\n",
       "    }\n",
       "\n",
       "    .dataframe thead th {\n",
       "        text-align: right;\n",
       "    }\n",
       "</style>\n",
       "<table border=\"1\" class=\"dataframe\">\n",
       "  <thead>\n",
       "    <tr style=\"text-align: right;\">\n",
       "      <th></th>\n",
       "      <th>type</th>\n",
       "      <th>name</th>\n",
       "      <th>steam_appid</th>\n",
       "      <th>required_age</th>\n",
       "      <th>is_free</th>\n",
       "      <th>controller_support</th>\n",
       "      <th>detailed_description</th>\n",
       "      <th>about_the_game</th>\n",
       "      <th>short_description</th>\n",
       "      <th>supported_languages</th>\n",
       "      <th>...</th>\n",
       "      <th>content_descriptors.notes</th>\n",
       "      <th>ratings.dejus.descriptors</th>\n",
       "      <th>ratings.dejus.use_age_gate</th>\n",
       "      <th>ratings.dejus.required_age</th>\n",
       "      <th>ratings.steam_germany.rating_generated</th>\n",
       "      <th>ratings.steam_germany.rating</th>\n",
       "      <th>ratings.steam_germany.required_age</th>\n",
       "      <th>ratings.steam_germany.banned</th>\n",
       "      <th>ratings.steam_germany.use_age_gate</th>\n",
       "      <th>ratings.steam_germany.descriptors</th>\n",
       "    </tr>\n",
       "  </thead>\n",
       "  <tbody>\n",
       "    <tr>\n",
       "      <th>0</th>\n",
       "      <td>game</td>\n",
       "      <td>Fields of Mistria</td>\n",
       "      <td>2142790</td>\n",
       "      <td>0</td>\n",
       "      <td>False</td>\n",
       "      <td>full</td>\n",
       "      <td>&lt;h1&gt;⭐ Updates &amp;amp; Announcements&lt;/h1&gt;&lt;p&gt;&lt;img ...</td>\n",
       "      <td>&lt;p class=\"bb_paragraph\"&gt;&lt;img class=\"bb_img\" sr...</td>\n",
       "      <td>Start your new life! Build the farm of your dr...</td>\n",
       "      <td>English</td>\n",
       "      <td>...</td>\n",
       "      <td>None</td>\n",
       "      <td>Violência</td>\n",
       "      <td>true</td>\n",
       "      <td>10</td>\n",
       "      <td>1</td>\n",
       "      <td>12</td>\n",
       "      <td>12</td>\n",
       "      <td>0</td>\n",
       "      <td>0</td>\n",
       "      <td>Gewalt\\nAlkohol / Tabak</td>\n",
       "    </tr>\n",
       "  </tbody>\n",
       "</table>\n",
       "<p>1 rows × 57 columns</p>\n",
       "</div>"
      ],
      "text/plain": [
       "   type               name  steam_appid  required_age  is_free  \\\n",
       "0  game  Fields of Mistria      2142790             0    False   \n",
       "\n",
       "  controller_support                               detailed_description  \\\n",
       "0               full  <h1>⭐ Updates &amp; Announcements</h1><p><img ...   \n",
       "\n",
       "                                      about_the_game  \\\n",
       "0  <p class=\"bb_paragraph\"><img class=\"bb_img\" sr...   \n",
       "\n",
       "                                   short_description supported_languages  ...  \\\n",
       "0  Start your new life! Build the farm of your dr...             English  ...   \n",
       "\n",
       "  content_descriptors.notes ratings.dejus.descriptors  \\\n",
       "0                      None                 Violência   \n",
       "\n",
       "  ratings.dejus.use_age_gate ratings.dejus.required_age  \\\n",
       "0                       true                         10   \n",
       "\n",
       "  ratings.steam_germany.rating_generated ratings.steam_germany.rating  \\\n",
       "0                                      1                           12   \n",
       "\n",
       "  ratings.steam_germany.required_age ratings.steam_germany.banned  \\\n",
       "0                                 12                            0   \n",
       "\n",
       "  ratings.steam_germany.use_age_gate ratings.steam_germany.descriptors  \n",
       "0                                  0           Gewalt\\nAlkohol / Tabak  \n",
       "\n",
       "[1 rows x 57 columns]"
      ]
     },
     "execution_count": 299,
     "metadata": {},
     "output_type": "execute_result"
    }
   ],
   "source": [
    "df"
   ]
  },
  {
   "cell_type": "code",
   "execution_count": 298,
   "metadata": {},
   "outputs": [
    {
     "data": {
      "text/plain": [
       "Index(['type', 'name', 'steam_appid', 'required_age', 'is_free',\n",
       "       'controller_support', 'detailed_description', 'about_the_game',\n",
       "       'short_description', 'supported_languages', 'reviews', 'header_image',\n",
       "       'capsule_image', 'capsule_imagev5', 'website', 'legal_notice',\n",
       "       'developers', 'publishers', 'packages', 'package_groups', 'categories',\n",
       "       'genres', 'screenshots', 'movies', 'background', 'background_raw',\n",
       "       'pc_requirements.minimum', 'pc_requirements.recommended',\n",
       "       'mac_requirements.minimum', 'mac_requirements.recommended',\n",
       "       'linux_requirements.minimum', 'linux_requirements.recommended',\n",
       "       'price_overview.currency', 'price_overview.initial',\n",
       "       'price_overview.final', 'price_overview.discount_percent',\n",
       "       'price_overview.initial_formatted', 'price_overview.final_formatted',\n",
       "       'platforms.windows', 'platforms.mac', 'platforms.linux',\n",
       "       'recommendations.total', 'release_date.coming_soon',\n",
       "       'release_date.date', 'support_info.url', 'support_info.email',\n",
       "       'content_descriptors.ids', 'content_descriptors.notes',\n",
       "       'ratings.dejus.descriptors', 'ratings.dejus.use_age_gate',\n",
       "       'ratings.dejus.required_age', 'ratings.steam_germany.rating_generated',\n",
       "       'ratings.steam_germany.rating', 'ratings.steam_germany.required_age',\n",
       "       'ratings.steam_germany.banned', 'ratings.steam_germany.use_age_gate',\n",
       "       'ratings.steam_germany.descriptors'],\n",
       "      dtype='object')"
      ]
     },
     "execution_count": 298,
     "metadata": {},
     "output_type": "execute_result"
    }
   ],
   "source": [
    "df.columns"
   ]
  },
  {
   "cell_type": "code",
   "execution_count": 290,
   "metadata": {},
   "outputs": [],
   "source": [
    "maindf = pd.DataFrame(columns=list(columns))"
   ]
  },
  {
   "cell_type": "code",
   "execution_count": 296,
   "metadata": {},
   "outputs": [
    {
     "data": {
      "text/html": [
       "<div>\n",
       "<style scoped>\n",
       "    .dataframe tbody tr th:only-of-type {\n",
       "        vertical-align: middle;\n",
       "    }\n",
       "\n",
       "    .dataframe tbody tr th {\n",
       "        vertical-align: top;\n",
       "    }\n",
       "\n",
       "    .dataframe thead th {\n",
       "        text-align: right;\n",
       "    }\n",
       "</style>\n",
       "<table border=\"1\" class=\"dataframe\">\n",
       "  <thead>\n",
       "    <tr style=\"text-align: right;\">\n",
       "      <th></th>\n",
       "      <th>ratings.csrr.rating</th>\n",
       "      <th>achievements.highlighted</th>\n",
       "      <th>ratings.kgrb.required_age</th>\n",
       "      <th>ratings.kgrb.descriptors</th>\n",
       "      <th>reviews</th>\n",
       "      <th>capsule_image</th>\n",
       "      <th>release_date.coming_soon</th>\n",
       "      <th>ratings.steam_germany.required_age</th>\n",
       "      <th>ratings.dejus.use_age_gate</th>\n",
       "      <th>mac_requirements.minimum</th>\n",
       "      <th>...</th>\n",
       "      <th>ratings.pegi.use_age_gate</th>\n",
       "      <th>dlc</th>\n",
       "      <th>publishers</th>\n",
       "      <th>ratings.usk.descriptors</th>\n",
       "      <th>support_info.url</th>\n",
       "      <th>ratings.usk.rating_id</th>\n",
       "      <th>metacritic.score</th>\n",
       "      <th>type</th>\n",
       "      <th>release_date.date</th>\n",
       "      <th>genres</th>\n",
       "    </tr>\n",
       "  </thead>\n",
       "  <tbody>\n",
       "    <tr>\n",
       "      <th>0</th>\n",
       "      <td>NaN</td>\n",
       "      <td>NaN</td>\n",
       "      <td>NaN</td>\n",
       "      <td>NaN</td>\n",
       "      <td>“Fields of Mistria is pure magic - The best ea...</td>\n",
       "      <td>https://shared.akamai.steamstatic.com/store_it...</td>\n",
       "      <td>False</td>\n",
       "      <td>12</td>\n",
       "      <td>true</td>\n",
       "      <td>&lt;strong&gt;Minimum:&lt;/strong&gt;&lt;br&gt;&lt;ul class=\"bb_ul\"...</td>\n",
       "      <td>...</td>\n",
       "      <td>NaN</td>\n",
       "      <td>NaN</td>\n",
       "      <td>[NPC Studio]</td>\n",
       "      <td>NaN</td>\n",
       "      <td>https://www.fieldsofmistria.com/contact</td>\n",
       "      <td>NaN</td>\n",
       "      <td>NaN</td>\n",
       "      <td>game</td>\n",
       "      <td>5 Aug, 2024</td>\n",
       "      <td>[{'id': '23', 'description': 'Indie'}, {'id': ...</td>\n",
       "    </tr>\n",
       "  </tbody>\n",
       "</table>\n",
       "<p>1 rows × 90 columns</p>\n",
       "</div>"
      ],
      "text/plain": [
       "  ratings.csrr.rating achievements.highlighted ratings.kgrb.required_age  \\\n",
       "0                 NaN                      NaN                       NaN   \n",
       "\n",
       "  ratings.kgrb.descriptors                                            reviews  \\\n",
       "0                      NaN  “Fields of Mistria is pure magic - The best ea...   \n",
       "\n",
       "                                       capsule_image release_date.coming_soon  \\\n",
       "0  https://shared.akamai.steamstatic.com/store_it...                    False   \n",
       "\n",
       "  ratings.steam_germany.required_age ratings.dejus.use_age_gate  \\\n",
       "0                                 12                       true   \n",
       "\n",
       "                            mac_requirements.minimum  ...  \\\n",
       "0  <strong>Minimum:</strong><br><ul class=\"bb_ul\"...  ...   \n",
       "\n",
       "  ratings.pegi.use_age_gate  dlc    publishers ratings.usk.descriptors  \\\n",
       "0                       NaN  NaN  [NPC Studio]                     NaN   \n",
       "\n",
       "                          support_info.url ratings.usk.rating_id  \\\n",
       "0  https://www.fieldsofmistria.com/contact                   NaN   \n",
       "\n",
       "  metacritic.score  type release_date.date  \\\n",
       "0              NaN  game       5 Aug, 2024   \n",
       "\n",
       "                                              genres  \n",
       "0  [{'id': '23', 'description': 'Indie'}, {'id': ...  \n",
       "\n",
       "[1 rows x 90 columns]"
      ]
     },
     "execution_count": 296,
     "metadata": {},
     "output_type": "execute_result"
    }
   ],
   "source": [
    "pd.concat([maindf, df])"
   ]
  },
  {
   "cell_type": "code",
   "execution_count": 292,
   "metadata": {},
   "outputs": [],
   "source": [
    "json_file = f'./data/apps/{appid}.json'\n",
    "with open(json_file, 'r') as f:\n",
    "    json_file = json.load(f)\n",
    "    df = pd.json_normalize(json_file)"
   ]
  },
  {
   "cell_type": "code",
   "execution_count": null,
   "metadata": {},
   "outputs": [],
   "source": [
    "df.concat()"
   ]
  },
  {
   "cell_type": "code",
   "execution_count": null,
   "metadata": {},
   "outputs": [
    {
     "data": {
      "text/html": [
       "<div>\n",
       "<style scoped>\n",
       "    .dataframe tbody tr th:only-of-type {\n",
       "        vertical-align: middle;\n",
       "    }\n",
       "\n",
       "    .dataframe tbody tr th {\n",
       "        vertical-align: top;\n",
       "    }\n",
       "\n",
       "    .dataframe thead th {\n",
       "        text-align: right;\n",
       "    }\n",
       "</style>\n",
       "<table border=\"1\" class=\"dataframe\">\n",
       "  <thead>\n",
       "    <tr style=\"text-align: right;\">\n",
       "      <th></th>\n",
       "      <th>ratings.csrr.rating</th>\n",
       "      <th>achievements.highlighted</th>\n",
       "      <th>ratings.kgrb.required_age</th>\n",
       "      <th>ratings.kgrb.descriptors</th>\n",
       "      <th>reviews</th>\n",
       "      <th>capsule_image</th>\n",
       "      <th>release_date.coming_soon</th>\n",
       "      <th>ratings.steam_germany.required_age</th>\n",
       "      <th>ratings.dejus.use_age_gate</th>\n",
       "      <th>mac_requirements.minimum</th>\n",
       "      <th>...</th>\n",
       "      <th>ratings.pegi.use_age_gate</th>\n",
       "      <th>dlc</th>\n",
       "      <th>publishers</th>\n",
       "      <th>ratings.usk.descriptors</th>\n",
       "      <th>support_info.url</th>\n",
       "      <th>ratings.usk.rating_id</th>\n",
       "      <th>metacritic.score</th>\n",
       "      <th>type</th>\n",
       "      <th>release_date.date</th>\n",
       "      <th>genres</th>\n",
       "    </tr>\n",
       "  </thead>\n",
       "  <tbody>\n",
       "  </tbody>\n",
       "</table>\n",
       "<p>0 rows × 90 columns</p>\n",
       "</div>"
      ],
      "text/plain": [
       "Empty DataFrame\n",
       "Columns: [ratings.csrr.rating, achievements.highlighted, ratings.kgrb.required_age, ratings.kgrb.descriptors, reviews, capsule_image, release_date.coming_soon, ratings.steam_germany.required_age, ratings.dejus.use_age_gate, mac_requirements.minimum, ratings.csrr.required_age, detailed_description, background_raw, ratings.dejus.banned, linux_requirements, website, packages, ratings.steam_germany.descriptors, mac_requirements, package_groups, about_the_game, metacritic.url, platforms.linux, ratings.usk.required_age, linux_requirements.minimum, short_description, support_info.email, name, capsule_imagev5, pc_requirements.minimum, legal_notice, mac_requirements.recommended, price_overview.currency, recommendations.total, content_descriptors.notes, price_overview.initial, pc_requirements.recommended, ratings.esrb.use_age_gate, supported_languages, ratings.pegi.required_age, price_overview.initial_formatted, movies, ratings.pegi.descriptors, ratings.dejus.descriptors, price_overview.discount_percent, ratings.steam_germany.rating_generated, required_age, ratings.steam_germany.rating, ratings.kgrb.rating, ratings.usk.use_age_gate, ratings.dejus.rating_generated, ratings.pegi.rating, ratings.dejus.rating, content_descriptors.ids, platforms.windows, price_overview.final_formatted, is_free, header_image, ratings.csrr.descriptors, price_overview.final, ratings.esrb.descriptors, categories, ratings.steam_germany.use_age_gate, demos, ratings.usk.rating, ratings.esrb.required_age, ratings.kgrb.use_age_gate, ratings.esrb.rating, platforms.mac, ratings.steam_germany.banned, ratings.dejus.required_age, background, developers, achievements.total, drm_notice, ratings.csrr.use_age_gate, linux_requirements.recommended, steam_appid, controller_support, screenshots, ratings.pegi.use_age_gate, dlc, publishers, ratings.usk.descriptors, support_info.url, ratings.usk.rating_id, metacritic.score, type, release_date.date, genres]\n",
       "Index: []\n",
       "\n",
       "[0 rows x 90 columns]"
      ]
     },
     "execution_count": 287,
     "metadata": {},
     "output_type": "execute_result"
    }
   ],
   "source": [
    "df = pd.DataFrame(columns=list(columns))\n",
    "\n",
    "for appid in appids:\n",
    "    json_file = f'./data/apps/{appid}.json'\n",
    "    with open(json_file, 'r') as f:\n",
    "        json_file = json.load(f)\n",
    "    pd.json_normalize(json_file)"
   ]
  },
  {
   "cell_type": "code",
   "execution_count": 272,
   "metadata": {},
   "outputs": [
    {
     "data": {
      "text/plain": [
       "['type',\n",
       " 'name',\n",
       " 'steam_appid',\n",
       " 'required_age',\n",
       " 'is_free',\n",
       " 'controller_support',\n",
       " 'detailed_description',\n",
       " 'about_the_game',\n",
       " 'short_description',\n",
       " 'supported_languages',\n",
       " 'header_image',\n",
       " 'capsule_image',\n",
       " 'capsule_imagev5',\n",
       " 'website',\n",
       " 'mac_requirements',\n",
       " 'linux_requirements',\n",
       " 'legal_notice',\n",
       " 'developers',\n",
       " 'publishers',\n",
       " 'packages',\n",
       " 'package_groups',\n",
       " 'categories',\n",
       " 'genres',\n",
       " 'screenshots',\n",
       " 'movies',\n",
       " 'background',\n",
       " 'background_raw',\n",
       " 'pc_requirements.minimum',\n",
       " 'pc_requirements.recommended',\n",
       " 'price_overview.currency',\n",
       " 'price_overview.initial',\n",
       " 'price_overview.final',\n",
       " 'price_overview.discount_percent',\n",
       " 'price_overview.initial_formatted',\n",
       " 'price_overview.final_formatted',\n",
       " 'platforms.windows',\n",
       " 'platforms.mac',\n",
       " 'platforms.linux',\n",
       " 'recommendations.total',\n",
       " 'achievements.total',\n",
       " 'achievements.highlighted',\n",
       " 'release_date.coming_soon',\n",
       " 'release_date.date',\n",
       " 'support_info.url',\n",
       " 'support_info.email',\n",
       " 'content_descriptors.ids',\n",
       " 'content_descriptors.notes',\n",
       " 'ratings.dejus.rating_generated',\n",
       " 'ratings.dejus.rating',\n",
       " 'ratings.dejus.required_age',\n",
       " 'ratings.dejus.banned',\n",
       " 'ratings.dejus.use_age_gate',\n",
       " 'ratings.dejus.descriptors',\n",
       " 'ratings.steam_germany.rating_generated',\n",
       " 'ratings.steam_germany.rating',\n",
       " 'ratings.steam_germany.required_age',\n",
       " 'ratings.steam_germany.banned',\n",
       " 'ratings.steam_germany.use_age_gate',\n",
       " 'ratings.steam_germany.descriptors']"
      ]
     },
     "execution_count": 272,
     "metadata": {},
     "output_type": "execute_result"
    }
   ],
   "source": [
    "json_file = f'./data/apps/3070070.json'\n",
    "with open(json_file, 'r') as f:\n",
    "    json_file = json.load(f)\n",
    "\n",
    "pd.json_normalize(json_file).columns.tolist()"
   ]
  },
  {
   "cell_type": "code",
   "execution_count": null,
   "metadata": {},
   "outputs": [],
   "source": [
    "df = pd.DataFrame(columns=columns)\n",
    "for dataset in datasets:\n",
    "    df = pd.concat([df, pd.DataFrame(dataset)])\n",
    "    df = df[columns]\n",
    "# df.to_csv('./new.csv', encoding='utf-8', index=False)"
   ]
  },
  {
   "cell_type": "code",
   "execution_count": 213,
   "metadata": {},
   "outputs": [],
   "source": [
    "appid = appids[0]\n",
    "\n",
    "url = f\"https://store.steampowered.com/api/appdetails?appids={appid}\"\n",
    "\n",
    "# csv_file = f'./data/app/{appid}.csv'\n",
    "# file_exists = os.path.isfile(csv_file)\n",
    "response = requests.get(url=url)"
   ]
  },
  {
   "cell_type": "code",
   "execution_count": 225,
   "metadata": {},
   "outputs": [
    {
     "data": {
      "text/plain": [
       "59"
      ]
     },
     "execution_count": 225,
     "metadata": {},
     "output_type": "execute_result"
    }
   ],
   "source": [
    "pd.json_normalize(response.json()[str(appid)]['data']).shape[1]"
   ]
  },
  {
   "cell_type": "code",
   "execution_count": 224,
   "metadata": {},
   "outputs": [
    {
     "data": {
      "text/html": [
       "<div>\n",
       "<style scoped>\n",
       "    .dataframe tbody tr th:only-of-type {\n",
       "        vertical-align: middle;\n",
       "    }\n",
       "\n",
       "    .dataframe tbody tr th {\n",
       "        vertical-align: top;\n",
       "    }\n",
       "\n",
       "    .dataframe thead th {\n",
       "        text-align: right;\n",
       "    }\n",
       "</style>\n",
       "<table border=\"1\" class=\"dataframe\">\n",
       "  <thead>\n",
       "    <tr style=\"text-align: right;\">\n",
       "      <th></th>\n",
       "      <th>type</th>\n",
       "      <th>name</th>\n",
       "      <th>steam_appid</th>\n",
       "      <th>required_age</th>\n",
       "      <th>is_free</th>\n",
       "      <th>dlc</th>\n",
       "      <th>detailed_description</th>\n",
       "      <th>about_the_game</th>\n",
       "      <th>short_description</th>\n",
       "      <th>supported_languages</th>\n",
       "      <th>...</th>\n",
       "      <th>ratings.dejus.required_age</th>\n",
       "      <th>ratings.dejus.banned</th>\n",
       "      <th>ratings.dejus.use_age_gate</th>\n",
       "      <th>ratings.dejus.descriptors</th>\n",
       "      <th>ratings.steam_germany.rating_generated</th>\n",
       "      <th>ratings.steam_germany.rating</th>\n",
       "      <th>ratings.steam_germany.required_age</th>\n",
       "      <th>ratings.steam_germany.banned</th>\n",
       "      <th>ratings.steam_germany.use_age_gate</th>\n",
       "      <th>ratings.steam_germany.descriptors</th>\n",
       "    </tr>\n",
       "  </thead>\n",
       "  <tbody>\n",
       "    <tr>\n",
       "      <th>0</th>\n",
       "      <td>game</td>\n",
       "      <td>MiSide</td>\n",
       "      <td>2527500</td>\n",
       "      <td>0</td>\n",
       "      <td>False</td>\n",
       "      <td>[3404450]</td>\n",
       "      <td>&lt;h1&gt;Tips&lt;/h1&gt;&lt;p&gt;&lt;p class=\"bb_paragraph\"&gt;※This ...</td>\n",
       "      <td>&lt;p class=\"bb_paragraph\"&gt;&lt;img class=\"bb_img\" sr...</td>\n",
       "      <td>Let's imagine that you have a game in which yo...</td>\n",
       "      <td>English, Russian&lt;strong&gt;*&lt;/strong&gt;, Japanese&lt;s...</td>\n",
       "      <td>...</td>\n",
       "      <td>12</td>\n",
       "      <td>0</td>\n",
       "      <td>0</td>\n",
       "      <td>Nudez\\nViolência</td>\n",
       "      <td>1</td>\n",
       "      <td>16</td>\n",
       "      <td>16</td>\n",
       "      <td>0</td>\n",
       "      <td>0</td>\n",
       "      <td>Gewalt</td>\n",
       "    </tr>\n",
       "  </tbody>\n",
       "</table>\n",
       "<p>1 rows × 59 columns</p>\n",
       "</div>"
      ],
      "text/plain": [
       "   type    name  steam_appid  required_age  is_free        dlc  \\\n",
       "0  game  MiSide      2527500             0    False  [3404450]   \n",
       "\n",
       "                                detailed_description  \\\n",
       "0  <h1>Tips</h1><p><p class=\"bb_paragraph\">※This ...   \n",
       "\n",
       "                                      about_the_game  \\\n",
       "0  <p class=\"bb_paragraph\"><img class=\"bb_img\" sr...   \n",
       "\n",
       "                                   short_description  \\\n",
       "0  Let's imagine that you have a game in which yo...   \n",
       "\n",
       "                                 supported_languages  ...  \\\n",
       "0  English, Russian<strong>*</strong>, Japanese<s...  ...   \n",
       "\n",
       "  ratings.dejus.required_age ratings.dejus.banned ratings.dejus.use_age_gate  \\\n",
       "0                         12                    0                          0   \n",
       "\n",
       "  ratings.dejus.descriptors ratings.steam_germany.rating_generated  \\\n",
       "0          Nudez\\nViolência                                      1   \n",
       "\n",
       "  ratings.steam_germany.rating ratings.steam_germany.required_age  \\\n",
       "0                           16                                 16   \n",
       "\n",
       "  ratings.steam_germany.banned ratings.steam_germany.use_age_gate  \\\n",
       "0                            0                                  0   \n",
       "\n",
       "  ratings.steam_germany.descriptors  \n",
       "0                            Gewalt  \n",
       "\n",
       "[1 rows x 59 columns]"
      ]
     },
     "execution_count": 224,
     "metadata": {},
     "output_type": "execute_result"
    }
   ],
   "source": [
    "pd.json_normalize(response.json()[str(appid)]['data'])"
   ]
  },
  {
   "cell_type": "code",
   "execution_count": 256,
   "metadata": {},
   "outputs": [
    {
     "ename": "AttributeError",
     "evalue": "'str' object has no attribute 'read'",
     "output_type": "error",
     "traceback": [
      "\u001b[31m---------------------------------------------------------------------------\u001b[39m",
      "\u001b[31mAttributeError\u001b[39m                            Traceback (most recent call last)",
      "\u001b[36mCell\u001b[39m\u001b[36m \u001b[39m\u001b[32mIn[256]\u001b[39m\u001b[32m, line 1\u001b[39m\n\u001b[32m----> \u001b[39m\u001b[32m1\u001b[39m \u001b[43mjson\u001b[49m\u001b[43m.\u001b[49m\u001b[43mload\u001b[49m\u001b[43m(\u001b[49m\u001b[33;43m'\u001b[39;49m\u001b[33;43m3070070.json\u001b[39;49m\u001b[33;43m'\u001b[39;49m\u001b[43m)\u001b[49m\n",
      "\u001b[36mFile \u001b[39m\u001b[32m~\\AppData\\Local\\Programs\\Python\\Python312\\Lib\\json\\__init__.py:293\u001b[39m, in \u001b[36mload\u001b[39m\u001b[34m(fp, cls, object_hook, parse_float, parse_int, parse_constant, object_pairs_hook, **kw)\u001b[39m\n\u001b[32m    274\u001b[39m \u001b[38;5;28;01mdef\u001b[39;00m\u001b[38;5;250m \u001b[39m\u001b[34mload\u001b[39m(fp, *, \u001b[38;5;28mcls\u001b[39m=\u001b[38;5;28;01mNone\u001b[39;00m, object_hook=\u001b[38;5;28;01mNone\u001b[39;00m, parse_float=\u001b[38;5;28;01mNone\u001b[39;00m,\n\u001b[32m    275\u001b[39m         parse_int=\u001b[38;5;28;01mNone\u001b[39;00m, parse_constant=\u001b[38;5;28;01mNone\u001b[39;00m, object_pairs_hook=\u001b[38;5;28;01mNone\u001b[39;00m, **kw):\n\u001b[32m    276\u001b[39m \u001b[38;5;250m    \u001b[39m\u001b[33;03m\"\"\"Deserialize ``fp`` (a ``.read()``-supporting file-like object containing\u001b[39;00m\n\u001b[32m    277\u001b[39m \u001b[33;03m    a JSON document) to a Python object.\u001b[39;00m\n\u001b[32m    278\u001b[39m \n\u001b[32m   (...)\u001b[39m\u001b[32m    291\u001b[39m \u001b[33;03m    kwarg; otherwise ``JSONDecoder`` is used.\u001b[39;00m\n\u001b[32m    292\u001b[39m \u001b[33;03m    \"\"\"\u001b[39;00m\n\u001b[32m--> \u001b[39m\u001b[32m293\u001b[39m     \u001b[38;5;28;01mreturn\u001b[39;00m loads(\u001b[43mfp\u001b[49m\u001b[43m.\u001b[49m\u001b[43mread\u001b[49m(),\n\u001b[32m    294\u001b[39m         \u001b[38;5;28mcls\u001b[39m=\u001b[38;5;28mcls\u001b[39m, object_hook=object_hook,\n\u001b[32m    295\u001b[39m         parse_float=parse_float, parse_int=parse_int,\n\u001b[32m    296\u001b[39m         parse_constant=parse_constant, object_pairs_hook=object_pairs_hook, **kw)\n",
      "\u001b[31mAttributeError\u001b[39m: 'str' object has no attribute 'read'"
     ]
    }
   ],
   "source": [
    "json.load('3070070.json')"
   ]
  },
  {
   "cell_type": "code",
   "execution_count": 254,
   "metadata": {},
   "outputs": [
    {
     "ename": "ValueError",
     "evalue": "All arrays must be of the same length",
     "output_type": "error",
     "traceback": [
      "\u001b[31m---------------------------------------------------------------------------\u001b[39m",
      "\u001b[31mValueError\u001b[39m                                Traceback (most recent call last)",
      "\u001b[36mCell\u001b[39m\u001b[36m \u001b[39m\u001b[32mIn[254]\u001b[39m\u001b[32m, line 1\u001b[39m\n\u001b[32m----> \u001b[39m\u001b[32m1\u001b[39m \u001b[43mpd\u001b[49m\u001b[43m.\u001b[49m\u001b[43mread_json\u001b[49m\u001b[43m(\u001b[49m\u001b[33;43m'\u001b[39;49m\u001b[33;43m./data/apps/526870.json\u001b[39;49m\u001b[33;43m'\u001b[39;49m\u001b[43m)\u001b[49m\n",
      "\u001b[36mFile \u001b[39m\u001b[32mc:\\Users\\tooshy\\Documents\\gitprojects\\steamreviews\\venv\\Lib\\site-packages\\pandas\\io\\json\\_json.py:815\u001b[39m, in \u001b[36mread_json\u001b[39m\u001b[34m(path_or_buf, orient, typ, dtype, convert_axes, convert_dates, keep_default_dates, precise_float, date_unit, encoding, encoding_errors, lines, chunksize, compression, nrows, storage_options, dtype_backend, engine)\u001b[39m\n\u001b[32m    813\u001b[39m     \u001b[38;5;28;01mreturn\u001b[39;00m json_reader\n\u001b[32m    814\u001b[39m \u001b[38;5;28;01melse\u001b[39;00m:\n\u001b[32m--> \u001b[39m\u001b[32m815\u001b[39m     \u001b[38;5;28;01mreturn\u001b[39;00m \u001b[43mjson_reader\u001b[49m\u001b[43m.\u001b[49m\u001b[43mread\u001b[49m\u001b[43m(\u001b[49m\u001b[43m)\u001b[49m\n",
      "\u001b[36mFile \u001b[39m\u001b[32mc:\\Users\\tooshy\\Documents\\gitprojects\\steamreviews\\venv\\Lib\\site-packages\\pandas\\io\\json\\_json.py:1025\u001b[39m, in \u001b[36mJsonReader.read\u001b[39m\u001b[34m(self)\u001b[39m\n\u001b[32m   1023\u001b[39m         obj = \u001b[38;5;28mself\u001b[39m._get_object_parser(\u001b[38;5;28mself\u001b[39m._combine_lines(data_lines))\n\u001b[32m   1024\u001b[39m \u001b[38;5;28;01melse\u001b[39;00m:\n\u001b[32m-> \u001b[39m\u001b[32m1025\u001b[39m     obj = \u001b[38;5;28;43mself\u001b[39;49m\u001b[43m.\u001b[49m\u001b[43m_get_object_parser\u001b[49m\u001b[43m(\u001b[49m\u001b[38;5;28;43mself\u001b[39;49m\u001b[43m.\u001b[49m\u001b[43mdata\u001b[49m\u001b[43m)\u001b[49m\n\u001b[32m   1026\u001b[39m \u001b[38;5;28;01mif\u001b[39;00m \u001b[38;5;28mself\u001b[39m.dtype_backend \u001b[38;5;129;01mis\u001b[39;00m \u001b[38;5;129;01mnot\u001b[39;00m lib.no_default:\n\u001b[32m   1027\u001b[39m     \u001b[38;5;28;01mreturn\u001b[39;00m obj.convert_dtypes(\n\u001b[32m   1028\u001b[39m         infer_objects=\u001b[38;5;28;01mFalse\u001b[39;00m, dtype_backend=\u001b[38;5;28mself\u001b[39m.dtype_backend\n\u001b[32m   1029\u001b[39m     )\n",
      "\u001b[36mFile \u001b[39m\u001b[32mc:\\Users\\tooshy\\Documents\\gitprojects\\steamreviews\\venv\\Lib\\site-packages\\pandas\\io\\json\\_json.py:1051\u001b[39m, in \u001b[36mJsonReader._get_object_parser\u001b[39m\u001b[34m(self, json)\u001b[39m\n\u001b[32m   1049\u001b[39m obj = \u001b[38;5;28;01mNone\u001b[39;00m\n\u001b[32m   1050\u001b[39m \u001b[38;5;28;01mif\u001b[39;00m typ == \u001b[33m\"\u001b[39m\u001b[33mframe\u001b[39m\u001b[33m\"\u001b[39m:\n\u001b[32m-> \u001b[39m\u001b[32m1051\u001b[39m     obj = \u001b[43mFrameParser\u001b[49m\u001b[43m(\u001b[49m\u001b[43mjson\u001b[49m\u001b[43m,\u001b[49m\u001b[43m \u001b[49m\u001b[43m*\u001b[49m\u001b[43m*\u001b[49m\u001b[43mkwargs\u001b[49m\u001b[43m)\u001b[49m\u001b[43m.\u001b[49m\u001b[43mparse\u001b[49m\u001b[43m(\u001b[49m\u001b[43m)\u001b[49m\n\u001b[32m   1053\u001b[39m \u001b[38;5;28;01mif\u001b[39;00m typ == \u001b[33m\"\u001b[39m\u001b[33mseries\u001b[39m\u001b[33m\"\u001b[39m \u001b[38;5;129;01mor\u001b[39;00m obj \u001b[38;5;129;01mis\u001b[39;00m \u001b[38;5;28;01mNone\u001b[39;00m:\n\u001b[32m   1054\u001b[39m     \u001b[38;5;28;01mif\u001b[39;00m \u001b[38;5;129;01mnot\u001b[39;00m \u001b[38;5;28misinstance\u001b[39m(dtype, \u001b[38;5;28mbool\u001b[39m):\n",
      "\u001b[36mFile \u001b[39m\u001b[32mc:\\Users\\tooshy\\Documents\\gitprojects\\steamreviews\\venv\\Lib\\site-packages\\pandas\\io\\json\\_json.py:1187\u001b[39m, in \u001b[36mParser.parse\u001b[39m\u001b[34m(self)\u001b[39m\n\u001b[32m   1185\u001b[39m \u001b[38;5;129m@final\u001b[39m\n\u001b[32m   1186\u001b[39m \u001b[38;5;28;01mdef\u001b[39;00m\u001b[38;5;250m \u001b[39m\u001b[34mparse\u001b[39m(\u001b[38;5;28mself\u001b[39m):\n\u001b[32m-> \u001b[39m\u001b[32m1187\u001b[39m     \u001b[38;5;28;43mself\u001b[39;49m\u001b[43m.\u001b[49m\u001b[43m_parse\u001b[49m\u001b[43m(\u001b[49m\u001b[43m)\u001b[49m\n\u001b[32m   1189\u001b[39m     \u001b[38;5;28;01mif\u001b[39;00m \u001b[38;5;28mself\u001b[39m.obj \u001b[38;5;129;01mis\u001b[39;00m \u001b[38;5;28;01mNone\u001b[39;00m:\n\u001b[32m   1190\u001b[39m         \u001b[38;5;28;01mreturn\u001b[39;00m \u001b[38;5;28;01mNone\u001b[39;00m\n",
      "\u001b[36mFile \u001b[39m\u001b[32mc:\\Users\\tooshy\\Documents\\gitprojects\\steamreviews\\venv\\Lib\\site-packages\\pandas\\io\\json\\_json.py:1402\u001b[39m, in \u001b[36mFrameParser._parse\u001b[39m\u001b[34m(self)\u001b[39m\n\u001b[32m   1399\u001b[39m orient = \u001b[38;5;28mself\u001b[39m.orient\n\u001b[32m   1401\u001b[39m \u001b[38;5;28;01mif\u001b[39;00m orient == \u001b[33m\"\u001b[39m\u001b[33mcolumns\u001b[39m\u001b[33m\"\u001b[39m:\n\u001b[32m-> \u001b[39m\u001b[32m1402\u001b[39m     \u001b[38;5;28mself\u001b[39m.obj = \u001b[43mDataFrame\u001b[49m\u001b[43m(\u001b[49m\n\u001b[32m   1403\u001b[39m \u001b[43m        \u001b[49m\u001b[43mujson_loads\u001b[49m\u001b[43m(\u001b[49m\u001b[43mjson\u001b[49m\u001b[43m,\u001b[49m\u001b[43m \u001b[49m\u001b[43mprecise_float\u001b[49m\u001b[43m=\u001b[49m\u001b[38;5;28;43mself\u001b[39;49m\u001b[43m.\u001b[49m\u001b[43mprecise_float\u001b[49m\u001b[43m)\u001b[49m\u001b[43m,\u001b[49m\u001b[43m \u001b[49m\u001b[43mdtype\u001b[49m\u001b[43m=\u001b[49m\u001b[38;5;28;43;01mNone\u001b[39;49;00m\n\u001b[32m   1404\u001b[39m \u001b[43m    \u001b[49m\u001b[43m)\u001b[49m\n\u001b[32m   1405\u001b[39m \u001b[38;5;28;01melif\u001b[39;00m orient == \u001b[33m\"\u001b[39m\u001b[33msplit\u001b[39m\u001b[33m\"\u001b[39m:\n\u001b[32m   1406\u001b[39m     decoded = {\n\u001b[32m   1407\u001b[39m         \u001b[38;5;28mstr\u001b[39m(k): v\n\u001b[32m   1408\u001b[39m         \u001b[38;5;28;01mfor\u001b[39;00m k, v \u001b[38;5;129;01min\u001b[39;00m ujson_loads(json, precise_float=\u001b[38;5;28mself\u001b[39m.precise_float).items()\n\u001b[32m   1409\u001b[39m     }\n",
      "\u001b[36mFile \u001b[39m\u001b[32mc:\\Users\\tooshy\\Documents\\gitprojects\\steamreviews\\venv\\Lib\\site-packages\\pandas\\core\\frame.py:778\u001b[39m, in \u001b[36mDataFrame.__init__\u001b[39m\u001b[34m(self, data, index, columns, dtype, copy)\u001b[39m\n\u001b[32m    772\u001b[39m     mgr = \u001b[38;5;28mself\u001b[39m._init_mgr(\n\u001b[32m    773\u001b[39m         data, axes={\u001b[33m\"\u001b[39m\u001b[33mindex\u001b[39m\u001b[33m\"\u001b[39m: index, \u001b[33m\"\u001b[39m\u001b[33mcolumns\u001b[39m\u001b[33m\"\u001b[39m: columns}, dtype=dtype, copy=copy\n\u001b[32m    774\u001b[39m     )\n\u001b[32m    776\u001b[39m \u001b[38;5;28;01melif\u001b[39;00m \u001b[38;5;28misinstance\u001b[39m(data, \u001b[38;5;28mdict\u001b[39m):\n\u001b[32m    777\u001b[39m     \u001b[38;5;66;03m# GH#38939 de facto copy defaults to False only in non-dict cases\u001b[39;00m\n\u001b[32m--> \u001b[39m\u001b[32m778\u001b[39m     mgr = \u001b[43mdict_to_mgr\u001b[49m\u001b[43m(\u001b[49m\u001b[43mdata\u001b[49m\u001b[43m,\u001b[49m\u001b[43m \u001b[49m\u001b[43mindex\u001b[49m\u001b[43m,\u001b[49m\u001b[43m \u001b[49m\u001b[43mcolumns\u001b[49m\u001b[43m,\u001b[49m\u001b[43m \u001b[49m\u001b[43mdtype\u001b[49m\u001b[43m=\u001b[49m\u001b[43mdtype\u001b[49m\u001b[43m,\u001b[49m\u001b[43m \u001b[49m\u001b[43mcopy\u001b[49m\u001b[43m=\u001b[49m\u001b[43mcopy\u001b[49m\u001b[43m,\u001b[49m\u001b[43m \u001b[49m\u001b[43mtyp\u001b[49m\u001b[43m=\u001b[49m\u001b[43mmanager\u001b[49m\u001b[43m)\u001b[49m\n\u001b[32m    779\u001b[39m \u001b[38;5;28;01melif\u001b[39;00m \u001b[38;5;28misinstance\u001b[39m(data, ma.MaskedArray):\n\u001b[32m    780\u001b[39m     \u001b[38;5;28;01mfrom\u001b[39;00m\u001b[38;5;250m \u001b[39m\u001b[34;01mnumpy\u001b[39;00m\u001b[34;01m.\u001b[39;00m\u001b[34;01mma\u001b[39;00m\u001b[38;5;250m \u001b[39m\u001b[38;5;28;01mimport\u001b[39;00m mrecords\n",
      "\u001b[36mFile \u001b[39m\u001b[32mc:\\Users\\tooshy\\Documents\\gitprojects\\steamreviews\\venv\\Lib\\site-packages\\pandas\\core\\internals\\construction.py:503\u001b[39m, in \u001b[36mdict_to_mgr\u001b[39m\u001b[34m(data, index, columns, dtype, typ, copy)\u001b[39m\n\u001b[32m    499\u001b[39m     \u001b[38;5;28;01melse\u001b[39;00m:\n\u001b[32m    500\u001b[39m         \u001b[38;5;66;03m# dtype check to exclude e.g. range objects, scalars\u001b[39;00m\n\u001b[32m    501\u001b[39m         arrays = [x.copy() \u001b[38;5;28;01mif\u001b[39;00m \u001b[38;5;28mhasattr\u001b[39m(x, \u001b[33m\"\u001b[39m\u001b[33mdtype\u001b[39m\u001b[33m\"\u001b[39m) \u001b[38;5;28;01melse\u001b[39;00m x \u001b[38;5;28;01mfor\u001b[39;00m x \u001b[38;5;129;01min\u001b[39;00m arrays]\n\u001b[32m--> \u001b[39m\u001b[32m503\u001b[39m \u001b[38;5;28;01mreturn\u001b[39;00m \u001b[43marrays_to_mgr\u001b[49m\u001b[43m(\u001b[49m\u001b[43marrays\u001b[49m\u001b[43m,\u001b[49m\u001b[43m \u001b[49m\u001b[43mcolumns\u001b[49m\u001b[43m,\u001b[49m\u001b[43m \u001b[49m\u001b[43mindex\u001b[49m\u001b[43m,\u001b[49m\u001b[43m \u001b[49m\u001b[43mdtype\u001b[49m\u001b[43m=\u001b[49m\u001b[43mdtype\u001b[49m\u001b[43m,\u001b[49m\u001b[43m \u001b[49m\u001b[43mtyp\u001b[49m\u001b[43m=\u001b[49m\u001b[43mtyp\u001b[49m\u001b[43m,\u001b[49m\u001b[43m \u001b[49m\u001b[43mconsolidate\u001b[49m\u001b[43m=\u001b[49m\u001b[43mcopy\u001b[49m\u001b[43m)\u001b[49m\n",
      "\u001b[36mFile \u001b[39m\u001b[32mc:\\Users\\tooshy\\Documents\\gitprojects\\steamreviews\\venv\\Lib\\site-packages\\pandas\\core\\internals\\construction.py:114\u001b[39m, in \u001b[36marrays_to_mgr\u001b[39m\u001b[34m(arrays, columns, index, dtype, verify_integrity, typ, consolidate)\u001b[39m\n\u001b[32m    111\u001b[39m \u001b[38;5;28;01mif\u001b[39;00m verify_integrity:\n\u001b[32m    112\u001b[39m     \u001b[38;5;66;03m# figure out the index, if necessary\u001b[39;00m\n\u001b[32m    113\u001b[39m     \u001b[38;5;28;01mif\u001b[39;00m index \u001b[38;5;129;01mis\u001b[39;00m \u001b[38;5;28;01mNone\u001b[39;00m:\n\u001b[32m--> \u001b[39m\u001b[32m114\u001b[39m         index = \u001b[43m_extract_index\u001b[49m\u001b[43m(\u001b[49m\u001b[43marrays\u001b[49m\u001b[43m)\u001b[49m\n\u001b[32m    115\u001b[39m     \u001b[38;5;28;01melse\u001b[39;00m:\n\u001b[32m    116\u001b[39m         index = ensure_index(index)\n",
      "\u001b[36mFile \u001b[39m\u001b[32mc:\\Users\\tooshy\\Documents\\gitprojects\\steamreviews\\venv\\Lib\\site-packages\\pandas\\core\\internals\\construction.py:677\u001b[39m, in \u001b[36m_extract_index\u001b[39m\u001b[34m(data)\u001b[39m\n\u001b[32m    675\u001b[39m lengths = \u001b[38;5;28mlist\u001b[39m(\u001b[38;5;28mset\u001b[39m(raw_lengths))\n\u001b[32m    676\u001b[39m \u001b[38;5;28;01mif\u001b[39;00m \u001b[38;5;28mlen\u001b[39m(lengths) > \u001b[32m1\u001b[39m:\n\u001b[32m--> \u001b[39m\u001b[32m677\u001b[39m     \u001b[38;5;28;01mraise\u001b[39;00m \u001b[38;5;167;01mValueError\u001b[39;00m(\u001b[33m\"\u001b[39m\u001b[33mAll arrays must be of the same length\u001b[39m\u001b[33m\"\u001b[39m)\n\u001b[32m    679\u001b[39m \u001b[38;5;28;01mif\u001b[39;00m have_dicts:\n\u001b[32m    680\u001b[39m     \u001b[38;5;28;01mraise\u001b[39;00m \u001b[38;5;167;01mValueError\u001b[39;00m(\n\u001b[32m    681\u001b[39m         \u001b[33m\"\u001b[39m\u001b[33mMixing dicts with non-Series may lead to ambiguous ordering.\u001b[39m\u001b[33m\"\u001b[39m\n\u001b[32m    682\u001b[39m     )\n",
      "\u001b[31mValueError\u001b[39m: All arrays must be of the same length"
     ]
    }
   ],
   "source": [
    "pd.read_json('./data/apps/526870.json')"
   ]
  },
  {
   "cell_type": "code",
   "execution_count": null,
   "metadata": {},
   "outputs": [],
   "source": [
    "import pathlib\n",
    "\n",
    "files = [f.name for f in pathlib.Path('./data').iterdir() if f.is_file()]\n",
    "\n",
    "for file in files:\n",
    "    print(file)\n",
    "    df = pd.read_json(f'./data//{file}')\n",
    "    # df.to_csv('steamreviews.csv', mode='a', header=not file_exists, index=False )\n",
    "    print(int(df.columns.value_counts().sum()))"
   ]
  },
  {
   "cell_type": "code",
   "execution_count": 330,
   "metadata": {},
   "outputs": [
    {
     "name": "stdout",
     "output_type": "stream",
     "text": [
      "2142790\n",
      "2358720\n",
      "2379780\n",
      "2527500\n",
      "3146520\n",
      "526870\n",
      "638510\n"
     ]
    }
   ],
   "source": [
    "files = [f.name for f in pathlib.Path('./data').iterdir() if f.is_file()]\n",
    "\n",
    "for file in files:\n",
    "    print(file.split('.')[0])"
   ]
  },
  {
   "cell_type": "code",
   "execution_count": 332,
   "metadata": {},
   "outputs": [
    {
     "name": "stdout",
     "output_type": "stream",
     "text": [
      "2142790.csv\n",
      "24\n",
      "2358720.csv\n",
      "24\n",
      "2379780.csv\n",
      "24\n",
      "2527500.csv\n",
      "24\n",
      "3146520.csv\n",
      "24\n",
      "526870.csv\n",
      "24\n",
      "638510.csv\n",
      "24\n"
     ]
    }
   ],
   "source": [
    "import pathlib\n",
    "\n",
    "csv_file = 'steamreviews.csv'\n",
    "\n",
    "files = [f.name for f in pathlib.Path('./data').iterdir() if f.is_file()]\n",
    "\n",
    "for file in files:\n",
    "    file_exists = os.path.isfile(csv_file)\n",
    "    print(file)\n",
    "    df = pd.read_csv(f'./data/{file}')\n",
    "    df['steam_appid'] = file.split('.')[0]\n",
    "    df.to_csv('steamreviews.csv', mode='a', header=not file_exists, index=False )\n",
    "    print(int(df.columns.value_counts().sum()))"
   ]
  },
  {
   "cell_type": "code",
   "execution_count": 195,
   "metadata": {},
   "outputs": [
    {
     "data": {
      "text/plain": [
       "Index(['recommendationid', 'language', 'review', 'timestamp_created',\n",
       "       'timestamp_updated', 'voted_up', 'votes_up', 'votes_funny',\n",
       "       'weighted_vote_score', 'comment_count', 'steam_purchase',\n",
       "       'received_for_free', 'written_during_early_access',\n",
       "       'primarily_steam_deck', 'author.steamid', 'author.num_games_owned',\n",
       "       'author.num_reviews', 'author.playtime_forever',\n",
       "       'author.playtime_last_two_weeks', 'author.playtime_at_review',\n",
       "       'author.last_played', 'author.deck_playtime_at_review', 'page'],\n",
       "      dtype='object')"
      ]
     },
     "execution_count": 195,
     "metadata": {},
     "output_type": "execute_result"
    }
   ],
   "source": [
    "pd.read_csv(f'./data/2142790.csv').columns"
   ]
  },
  {
   "cell_type": "code",
   "execution_count": 205,
   "metadata": {},
   "outputs": [
    {
     "data": {
      "text/plain": [
       "Index(['Unnamed: 0', 'recommendationid', 'language', 'review',\n",
       "       'timestamp_created', 'timestamp_updated', 'voted_up', 'votes_up',\n",
       "       'votes_funny', 'weighted_vote_score', 'comment_count', 'steam_purchase',\n",
       "       'received_for_free', 'written_during_early_access',\n",
       "       'primarily_steam_deck', 'author.steamid', 'author.num_games_owned',\n",
       "       'author.num_reviews', 'author.playtime_forever',\n",
       "       'author.playtime_last_two_weeks', 'author.playtime_at_review',\n",
       "       'author.last_played', 'author.deck_playtime_at_review', 'page'],\n",
       "      dtype='object')"
      ]
     },
     "execution_count": 205,
     "metadata": {},
     "output_type": "execute_result"
    }
   ],
   "source": [
    "pd.read_csv(f'./data/638510.csv').columns"
   ]
  },
  {
   "cell_type": "code",
   "execution_count": 206,
   "metadata": {},
   "outputs": [],
   "source": [
    "pd.read_csv(f'./data/638510.csv').drop(columns=['Unnamed: 0']).to_csv('638510.csv', index=False)"
   ]
  },
  {
   "cell_type": "code",
   "execution_count": null,
   "metadata": {},
   "outputs": [
    {
     "data": {
      "text/plain": [
       "25"
      ]
     },
     "execution_count": 190,
     "metadata": {},
     "output_type": "execute_result"
    }
   ],
   "source": [
    "int(df.columns.value_counts().sum())"
   ]
  },
  {
   "cell_type": "code",
   "execution_count": 185,
   "metadata": {},
   "outputs": [
    {
     "ename": "ParserError",
     "evalue": "Error tokenizing data. C error: Expected 23 fields in line 31501, saw 25\n",
     "output_type": "error",
     "traceback": [
      "\u001b[31m---------------------------------------------------------------------------\u001b[39m",
      "\u001b[31mParserError\u001b[39m                               Traceback (most recent call last)",
      "\u001b[36mCell\u001b[39m\u001b[36m \u001b[39m\u001b[32mIn[185]\u001b[39m\u001b[32m, line 1\u001b[39m\n\u001b[32m----> \u001b[39m\u001b[32m1\u001b[39m \u001b[43mpd\u001b[49m\u001b[43m.\u001b[49m\u001b[43mread_csv\u001b[49m\u001b[43m(\u001b[49m\u001b[33;43m'\u001b[39;49m\u001b[33;43msteamreviews.csv\u001b[39;49m\u001b[33;43m'\u001b[39;49m\u001b[43m)\u001b[49m.shape\n",
      "\u001b[36mFile \u001b[39m\u001b[32mc:\\Users\\tooshy\\Documents\\gitprojects\\steamreviews\\venv\\Lib\\site-packages\\pandas\\io\\parsers\\readers.py:1026\u001b[39m, in \u001b[36mread_csv\u001b[39m\u001b[34m(filepath_or_buffer, sep, delimiter, header, names, index_col, usecols, dtype, engine, converters, true_values, false_values, skipinitialspace, skiprows, skipfooter, nrows, na_values, keep_default_na, na_filter, verbose, skip_blank_lines, parse_dates, infer_datetime_format, keep_date_col, date_parser, date_format, dayfirst, cache_dates, iterator, chunksize, compression, thousands, decimal, lineterminator, quotechar, quoting, doublequote, escapechar, comment, encoding, encoding_errors, dialect, on_bad_lines, delim_whitespace, low_memory, memory_map, float_precision, storage_options, dtype_backend)\u001b[39m\n\u001b[32m   1013\u001b[39m kwds_defaults = _refine_defaults_read(\n\u001b[32m   1014\u001b[39m     dialect,\n\u001b[32m   1015\u001b[39m     delimiter,\n\u001b[32m   (...)\u001b[39m\u001b[32m   1022\u001b[39m     dtype_backend=dtype_backend,\n\u001b[32m   1023\u001b[39m )\n\u001b[32m   1024\u001b[39m kwds.update(kwds_defaults)\n\u001b[32m-> \u001b[39m\u001b[32m1026\u001b[39m \u001b[38;5;28;01mreturn\u001b[39;00m \u001b[43m_read\u001b[49m\u001b[43m(\u001b[49m\u001b[43mfilepath_or_buffer\u001b[49m\u001b[43m,\u001b[49m\u001b[43m \u001b[49m\u001b[43mkwds\u001b[49m\u001b[43m)\u001b[49m\n",
      "\u001b[36mFile \u001b[39m\u001b[32mc:\\Users\\tooshy\\Documents\\gitprojects\\steamreviews\\venv\\Lib\\site-packages\\pandas\\io\\parsers\\readers.py:626\u001b[39m, in \u001b[36m_read\u001b[39m\u001b[34m(filepath_or_buffer, kwds)\u001b[39m\n\u001b[32m    623\u001b[39m     \u001b[38;5;28;01mreturn\u001b[39;00m parser\n\u001b[32m    625\u001b[39m \u001b[38;5;28;01mwith\u001b[39;00m parser:\n\u001b[32m--> \u001b[39m\u001b[32m626\u001b[39m     \u001b[38;5;28;01mreturn\u001b[39;00m \u001b[43mparser\u001b[49m\u001b[43m.\u001b[49m\u001b[43mread\u001b[49m\u001b[43m(\u001b[49m\u001b[43mnrows\u001b[49m\u001b[43m)\u001b[49m\n",
      "\u001b[36mFile \u001b[39m\u001b[32mc:\\Users\\tooshy\\Documents\\gitprojects\\steamreviews\\venv\\Lib\\site-packages\\pandas\\io\\parsers\\readers.py:1923\u001b[39m, in \u001b[36mTextFileReader.read\u001b[39m\u001b[34m(self, nrows)\u001b[39m\n\u001b[32m   1916\u001b[39m nrows = validate_integer(\u001b[33m\"\u001b[39m\u001b[33mnrows\u001b[39m\u001b[33m\"\u001b[39m, nrows)\n\u001b[32m   1917\u001b[39m \u001b[38;5;28;01mtry\u001b[39;00m:\n\u001b[32m   1918\u001b[39m     \u001b[38;5;66;03m# error: \"ParserBase\" has no attribute \"read\"\u001b[39;00m\n\u001b[32m   1919\u001b[39m     (\n\u001b[32m   1920\u001b[39m         index,\n\u001b[32m   1921\u001b[39m         columns,\n\u001b[32m   1922\u001b[39m         col_dict,\n\u001b[32m-> \u001b[39m\u001b[32m1923\u001b[39m     ) = \u001b[38;5;28;43mself\u001b[39;49m\u001b[43m.\u001b[49m\u001b[43m_engine\u001b[49m\u001b[43m.\u001b[49m\u001b[43mread\u001b[49m\u001b[43m(\u001b[49m\u001b[43m  \u001b[49m\u001b[38;5;66;43;03m# type: ignore[attr-defined]\u001b[39;49;00m\n\u001b[32m   1924\u001b[39m \u001b[43m        \u001b[49m\u001b[43mnrows\u001b[49m\n\u001b[32m   1925\u001b[39m \u001b[43m    \u001b[49m\u001b[43m)\u001b[49m\n\u001b[32m   1926\u001b[39m \u001b[38;5;28;01mexcept\u001b[39;00m \u001b[38;5;167;01mException\u001b[39;00m:\n\u001b[32m   1927\u001b[39m     \u001b[38;5;28mself\u001b[39m.close()\n",
      "\u001b[36mFile \u001b[39m\u001b[32mc:\\Users\\tooshy\\Documents\\gitprojects\\steamreviews\\venv\\Lib\\site-packages\\pandas\\io\\parsers\\c_parser_wrapper.py:234\u001b[39m, in \u001b[36mCParserWrapper.read\u001b[39m\u001b[34m(self, nrows)\u001b[39m\n\u001b[32m    232\u001b[39m \u001b[38;5;28;01mtry\u001b[39;00m:\n\u001b[32m    233\u001b[39m     \u001b[38;5;28;01mif\u001b[39;00m \u001b[38;5;28mself\u001b[39m.low_memory:\n\u001b[32m--> \u001b[39m\u001b[32m234\u001b[39m         chunks = \u001b[38;5;28;43mself\u001b[39;49m\u001b[43m.\u001b[49m\u001b[43m_reader\u001b[49m\u001b[43m.\u001b[49m\u001b[43mread_low_memory\u001b[49m\u001b[43m(\u001b[49m\u001b[43mnrows\u001b[49m\u001b[43m)\u001b[49m\n\u001b[32m    235\u001b[39m         \u001b[38;5;66;03m# destructive to chunks\u001b[39;00m\n\u001b[32m    236\u001b[39m         data = _concatenate_chunks(chunks)\n",
      "\u001b[36mFile \u001b[39m\u001b[32mparsers.pyx:838\u001b[39m, in \u001b[36mpandas._libs.parsers.TextReader.read_low_memory\u001b[39m\u001b[34m()\u001b[39m\n",
      "\u001b[36mFile \u001b[39m\u001b[32mparsers.pyx:905\u001b[39m, in \u001b[36mpandas._libs.parsers.TextReader._read_rows\u001b[39m\u001b[34m()\u001b[39m\n",
      "\u001b[36mFile \u001b[39m\u001b[32mparsers.pyx:874\u001b[39m, in \u001b[36mpandas._libs.parsers.TextReader._tokenize_rows\u001b[39m\u001b[34m()\u001b[39m\n",
      "\u001b[36mFile \u001b[39m\u001b[32mparsers.pyx:891\u001b[39m, in \u001b[36mpandas._libs.parsers.TextReader._check_tokenize_status\u001b[39m\u001b[34m()\u001b[39m\n",
      "\u001b[36mFile \u001b[39m\u001b[32mparsers.pyx:2061\u001b[39m, in \u001b[36mpandas._libs.parsers.raise_parser_error\u001b[39m\u001b[34m()\u001b[39m\n",
      "\u001b[31mParserError\u001b[39m: Error tokenizing data. C error: Expected 23 fields in line 31501, saw 25\n"
     ]
    }
   ],
   "source": [
    "pd.read_csv('steamreviews.csv').shape"
   ]
  }
 ],
 "metadata": {
  "kernelspec": {
   "display_name": "venv",
   "language": "python",
   "name": "python3"
  },
  "language_info": {
   "codemirror_mode": {
    "name": "ipython",
    "version": 3
   },
   "file_extension": ".py",
   "mimetype": "text/x-python",
   "name": "python",
   "nbconvert_exporter": "python",
   "pygments_lexer": "ipython3",
   "version": "3.12.2"
  }
 },
 "nbformat": 4,
 "nbformat_minor": 2
}
