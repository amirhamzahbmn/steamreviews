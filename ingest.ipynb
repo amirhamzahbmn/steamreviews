{
 "cells": [
  {
   "cell_type": "code",
   "execution_count": 161,
   "metadata": {},
   "outputs": [],
   "source": [
    "import requests\n",
    "import json\n",
    "import pandas as pd\n",
    "import csv\n",
    "import os"
   ]
  },
  {
   "cell_type": "code",
   "execution_count": 164,
   "metadata": {},
   "outputs": [
    {
     "name": "stdout",
     "output_type": "stream",
     "text": [
      "calling 250 times\n",
      "calling 250 timesrsor: AoIFQFbAAAAAAAB2hMi7BQ== \n",
      "calling 250 timesrsor: AoIFQFaAAAAAAAB26MCyBQ== \n",
      "calling 250 timesrsor: AoIFQFaAAAAAAAB2juqlBQ== \n",
      "calling 250 timesrsor: AoIFQFaAAAAAAAB21ICZBQ== \n",
      "calling 250 timesrsor: AoIFQFaAAAAAAAB+uL+cBQ== \n",
      "calling 250 timesrsor: AoIFQFahheAAAAB+mbakBQ== \n",
      "moving on with cursor: AoIFQFahheAAAAB8rP3FBQ== \r"
     ]
    }
   ],
   "source": [
    "appids = [2527500, 2379780, 3146520, 2358720, 526870, 3070070, 2142790]\n",
    "count = 0\n",
    "\n",
    "for appid in appids:\n",
    "    count += 1\n",
    "    print(f'{count}/{len(appids)} \\r', end='', flush='True')\n",
    "    print(f'scanning {appid} \\r', end='', flush=True)\n",
    "    url = f\"https://store.steampowered.com/appreviews/{appid}\"\n",
    "    language = 'english'\n",
    "    num_per_page = '20'\n",
    "    day_range = '365'\n",
    "\n",
    "    payload = {'json': '1', 'language': language, \"num_per_page\": num_per_page}\n",
    "    response = requests.get(url=url, params=payload)\n",
    "\n",
    "    total_reviews = response.json()['query_summary']['total_reviews']\n",
    "\n",
    "    if total_reviews > 5000:\n",
    "        total_reviews = 5000\n",
    "\n",
    "    pages = int(total_reviews / int(num_per_page))\n",
    "\n",
    "    print(f'calling {pages} times')\n",
    "\n",
    "    cursor = '*'\n",
    "\n",
    "    csv_file = f'./data/{appid}.csv'\n",
    "\n",
    "    file_exists = os.path.isfile(csv_file)\n",
    "\n",
    "    for n in range(pages):\n",
    "        print(f'{n+1}/{pages} \\r', end='', flush=True)\n",
    "        payload = {'json': '1', 'language': language, \"num_per_page\": num_per_page, 'day_range':day_range, 'cursor':cursor}\n",
    "        response = requests.get(url=url, params=payload)\n",
    "\n",
    "        json_data = pd.json_normalize(response.json()['reviews'])\n",
    "\n",
    "        json_data['page'] = n\n",
    "        \n",
    "        json_data.to_csv(csv_file, mode='a', header=not file_exists, index=False )\n",
    "\n",
    "        cursor = response.json()['cursor']\n",
    "        print(f'moving on with cursor: {cursor} \\r', end='', flush=True)\n"
   ]
  },
  {
   "cell_type": "code",
   "execution_count": 207,
   "metadata": {},
   "outputs": [
    {
     "name": "stdout",
     "output_type": "stream",
     "text": [
      "2142790.csv\n",
      "23\n",
      "2358720.csv\n",
      "23\n",
      "2379780.csv\n",
      "23\n",
      "2527500.csv\n",
      "23\n",
      "3146520.csv\n",
      "23\n",
      "526870.csv\n",
      "23\n",
      "638510.csv\n",
      "23\n"
     ]
    }
   ],
   "source": [
    "import pathlib\n",
    "\n",
    "files = [f.name for f in pathlib.Path('./data').iterdir() if f.is_file()]\n",
    "\n",
    "for file in files:\n",
    "    print(file)\n",
    "    df = pd.read_csv(f'./data/{file}')\n",
    "    df.to_csv('steamreviews.csv', mode='a', header=not file_exists, index=False )\n",
    "    print(int(df.columns.value_counts().sum()))"
   ]
  },
  {
   "cell_type": "code",
   "execution_count": 195,
   "metadata": {},
   "outputs": [
    {
     "data": {
      "text/plain": [
       "Index(['recommendationid', 'language', 'review', 'timestamp_created',\n",
       "       'timestamp_updated', 'voted_up', 'votes_up', 'votes_funny',\n",
       "       'weighted_vote_score', 'comment_count', 'steam_purchase',\n",
       "       'received_for_free', 'written_during_early_access',\n",
       "       'primarily_steam_deck', 'author.steamid', 'author.num_games_owned',\n",
       "       'author.num_reviews', 'author.playtime_forever',\n",
       "       'author.playtime_last_two_weeks', 'author.playtime_at_review',\n",
       "       'author.last_played', 'author.deck_playtime_at_review', 'page'],\n",
       "      dtype='object')"
      ]
     },
     "execution_count": 195,
     "metadata": {},
     "output_type": "execute_result"
    }
   ],
   "source": [
    "pd.read_csv(f'./data/2142790.csv').columns"
   ]
  },
  {
   "cell_type": "code",
   "execution_count": 205,
   "metadata": {},
   "outputs": [
    {
     "data": {
      "text/plain": [
       "Index(['Unnamed: 0', 'recommendationid', 'language', 'review',\n",
       "       'timestamp_created', 'timestamp_updated', 'voted_up', 'votes_up',\n",
       "       'votes_funny', 'weighted_vote_score', 'comment_count', 'steam_purchase',\n",
       "       'received_for_free', 'written_during_early_access',\n",
       "       'primarily_steam_deck', 'author.steamid', 'author.num_games_owned',\n",
       "       'author.num_reviews', 'author.playtime_forever',\n",
       "       'author.playtime_last_two_weeks', 'author.playtime_at_review',\n",
       "       'author.last_played', 'author.deck_playtime_at_review', 'page'],\n",
       "      dtype='object')"
      ]
     },
     "execution_count": 205,
     "metadata": {},
     "output_type": "execute_result"
    }
   ],
   "source": [
    "pd.read_csv(f'./data/638510.csv').columns"
   ]
  },
  {
   "cell_type": "code",
   "execution_count": 206,
   "metadata": {},
   "outputs": [],
   "source": [
    "pd.read_csv(f'./data/638510.csv').drop(columns=['Unnamed: 0']).to_csv('638510.csv', index=False)"
   ]
  },
  {
   "cell_type": "code",
   "execution_count": null,
   "metadata": {},
   "outputs": [
    {
     "data": {
      "text/plain": [
       "25"
      ]
     },
     "execution_count": 190,
     "metadata": {},
     "output_type": "execute_result"
    }
   ],
   "source": [
    "int(df.columns.value_counts().sum())"
   ]
  },
  {
   "cell_type": "code",
   "execution_count": 185,
   "metadata": {},
   "outputs": [
    {
     "ename": "ParserError",
     "evalue": "Error tokenizing data. C error: Expected 23 fields in line 31501, saw 25\n",
     "output_type": "error",
     "traceback": [
      "\u001b[31m---------------------------------------------------------------------------\u001b[39m",
      "\u001b[31mParserError\u001b[39m                               Traceback (most recent call last)",
      "\u001b[36mCell\u001b[39m\u001b[36m \u001b[39m\u001b[32mIn[185]\u001b[39m\u001b[32m, line 1\u001b[39m\n\u001b[32m----> \u001b[39m\u001b[32m1\u001b[39m \u001b[43mpd\u001b[49m\u001b[43m.\u001b[49m\u001b[43mread_csv\u001b[49m\u001b[43m(\u001b[49m\u001b[33;43m'\u001b[39;49m\u001b[33;43msteamreviews.csv\u001b[39;49m\u001b[33;43m'\u001b[39;49m\u001b[43m)\u001b[49m.shape\n",
      "\u001b[36mFile \u001b[39m\u001b[32mc:\\Users\\tooshy\\Documents\\gitprojects\\steamreviews\\venv\\Lib\\site-packages\\pandas\\io\\parsers\\readers.py:1026\u001b[39m, in \u001b[36mread_csv\u001b[39m\u001b[34m(filepath_or_buffer, sep, delimiter, header, names, index_col, usecols, dtype, engine, converters, true_values, false_values, skipinitialspace, skiprows, skipfooter, nrows, na_values, keep_default_na, na_filter, verbose, skip_blank_lines, parse_dates, infer_datetime_format, keep_date_col, date_parser, date_format, dayfirst, cache_dates, iterator, chunksize, compression, thousands, decimal, lineterminator, quotechar, quoting, doublequote, escapechar, comment, encoding, encoding_errors, dialect, on_bad_lines, delim_whitespace, low_memory, memory_map, float_precision, storage_options, dtype_backend)\u001b[39m\n\u001b[32m   1013\u001b[39m kwds_defaults = _refine_defaults_read(\n\u001b[32m   1014\u001b[39m     dialect,\n\u001b[32m   1015\u001b[39m     delimiter,\n\u001b[32m   (...)\u001b[39m\u001b[32m   1022\u001b[39m     dtype_backend=dtype_backend,\n\u001b[32m   1023\u001b[39m )\n\u001b[32m   1024\u001b[39m kwds.update(kwds_defaults)\n\u001b[32m-> \u001b[39m\u001b[32m1026\u001b[39m \u001b[38;5;28;01mreturn\u001b[39;00m \u001b[43m_read\u001b[49m\u001b[43m(\u001b[49m\u001b[43mfilepath_or_buffer\u001b[49m\u001b[43m,\u001b[49m\u001b[43m \u001b[49m\u001b[43mkwds\u001b[49m\u001b[43m)\u001b[49m\n",
      "\u001b[36mFile \u001b[39m\u001b[32mc:\\Users\\tooshy\\Documents\\gitprojects\\steamreviews\\venv\\Lib\\site-packages\\pandas\\io\\parsers\\readers.py:626\u001b[39m, in \u001b[36m_read\u001b[39m\u001b[34m(filepath_or_buffer, kwds)\u001b[39m\n\u001b[32m    623\u001b[39m     \u001b[38;5;28;01mreturn\u001b[39;00m parser\n\u001b[32m    625\u001b[39m \u001b[38;5;28;01mwith\u001b[39;00m parser:\n\u001b[32m--> \u001b[39m\u001b[32m626\u001b[39m     \u001b[38;5;28;01mreturn\u001b[39;00m \u001b[43mparser\u001b[49m\u001b[43m.\u001b[49m\u001b[43mread\u001b[49m\u001b[43m(\u001b[49m\u001b[43mnrows\u001b[49m\u001b[43m)\u001b[49m\n",
      "\u001b[36mFile \u001b[39m\u001b[32mc:\\Users\\tooshy\\Documents\\gitprojects\\steamreviews\\venv\\Lib\\site-packages\\pandas\\io\\parsers\\readers.py:1923\u001b[39m, in \u001b[36mTextFileReader.read\u001b[39m\u001b[34m(self, nrows)\u001b[39m\n\u001b[32m   1916\u001b[39m nrows = validate_integer(\u001b[33m\"\u001b[39m\u001b[33mnrows\u001b[39m\u001b[33m\"\u001b[39m, nrows)\n\u001b[32m   1917\u001b[39m \u001b[38;5;28;01mtry\u001b[39;00m:\n\u001b[32m   1918\u001b[39m     \u001b[38;5;66;03m# error: \"ParserBase\" has no attribute \"read\"\u001b[39;00m\n\u001b[32m   1919\u001b[39m     (\n\u001b[32m   1920\u001b[39m         index,\n\u001b[32m   1921\u001b[39m         columns,\n\u001b[32m   1922\u001b[39m         col_dict,\n\u001b[32m-> \u001b[39m\u001b[32m1923\u001b[39m     ) = \u001b[38;5;28;43mself\u001b[39;49m\u001b[43m.\u001b[49m\u001b[43m_engine\u001b[49m\u001b[43m.\u001b[49m\u001b[43mread\u001b[49m\u001b[43m(\u001b[49m\u001b[43m  \u001b[49m\u001b[38;5;66;43;03m# type: ignore[attr-defined]\u001b[39;49;00m\n\u001b[32m   1924\u001b[39m \u001b[43m        \u001b[49m\u001b[43mnrows\u001b[49m\n\u001b[32m   1925\u001b[39m \u001b[43m    \u001b[49m\u001b[43m)\u001b[49m\n\u001b[32m   1926\u001b[39m \u001b[38;5;28;01mexcept\u001b[39;00m \u001b[38;5;167;01mException\u001b[39;00m:\n\u001b[32m   1927\u001b[39m     \u001b[38;5;28mself\u001b[39m.close()\n",
      "\u001b[36mFile \u001b[39m\u001b[32mc:\\Users\\tooshy\\Documents\\gitprojects\\steamreviews\\venv\\Lib\\site-packages\\pandas\\io\\parsers\\c_parser_wrapper.py:234\u001b[39m, in \u001b[36mCParserWrapper.read\u001b[39m\u001b[34m(self, nrows)\u001b[39m\n\u001b[32m    232\u001b[39m \u001b[38;5;28;01mtry\u001b[39;00m:\n\u001b[32m    233\u001b[39m     \u001b[38;5;28;01mif\u001b[39;00m \u001b[38;5;28mself\u001b[39m.low_memory:\n\u001b[32m--> \u001b[39m\u001b[32m234\u001b[39m         chunks = \u001b[38;5;28;43mself\u001b[39;49m\u001b[43m.\u001b[49m\u001b[43m_reader\u001b[49m\u001b[43m.\u001b[49m\u001b[43mread_low_memory\u001b[49m\u001b[43m(\u001b[49m\u001b[43mnrows\u001b[49m\u001b[43m)\u001b[49m\n\u001b[32m    235\u001b[39m         \u001b[38;5;66;03m# destructive to chunks\u001b[39;00m\n\u001b[32m    236\u001b[39m         data = _concatenate_chunks(chunks)\n",
      "\u001b[36mFile \u001b[39m\u001b[32mparsers.pyx:838\u001b[39m, in \u001b[36mpandas._libs.parsers.TextReader.read_low_memory\u001b[39m\u001b[34m()\u001b[39m\n",
      "\u001b[36mFile \u001b[39m\u001b[32mparsers.pyx:905\u001b[39m, in \u001b[36mpandas._libs.parsers.TextReader._read_rows\u001b[39m\u001b[34m()\u001b[39m\n",
      "\u001b[36mFile \u001b[39m\u001b[32mparsers.pyx:874\u001b[39m, in \u001b[36mpandas._libs.parsers.TextReader._tokenize_rows\u001b[39m\u001b[34m()\u001b[39m\n",
      "\u001b[36mFile \u001b[39m\u001b[32mparsers.pyx:891\u001b[39m, in \u001b[36mpandas._libs.parsers.TextReader._check_tokenize_status\u001b[39m\u001b[34m()\u001b[39m\n",
      "\u001b[36mFile \u001b[39m\u001b[32mparsers.pyx:2061\u001b[39m, in \u001b[36mpandas._libs.parsers.raise_parser_error\u001b[39m\u001b[34m()\u001b[39m\n",
      "\u001b[31mParserError\u001b[39m: Error tokenizing data. C error: Expected 23 fields in line 31501, saw 25\n"
     ]
    }
   ],
   "source": [
    "pd.read_csv('steamreviews.csv').shape"
   ]
  }
 ],
 "metadata": {
  "kernelspec": {
   "display_name": "venv",
   "language": "python",
   "name": "python3"
  },
  "language_info": {
   "codemirror_mode": {
    "name": "ipython",
    "version": 3
   },
   "file_extension": ".py",
   "mimetype": "text/x-python",
   "name": "python",
   "nbconvert_exporter": "python",
   "pygments_lexer": "ipython3",
   "version": "3.12.2"
  }
 },
 "nbformat": 4,
 "nbformat_minor": 2
}
